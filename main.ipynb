{
 "cells": [
  {
   "cell_type": "code",
   "execution_count": 9,
   "metadata": {},
   "outputs": [],
   "source": [
    "import pysiclib as psl\n",
    "import numpy as np\n",
    "import matplotlib.pyplot as plt\n",
    "%matplotlib inline\n",
    "\n",
    "#open test and train datasets\n",
    "train_data = None\n",
    "with open(\"mnist_train_5000.csv\", \"r\") as f:\n",
    "\ttrain_data = f.readlines()\n",
    "\n",
    "test_data = None\n",
    "with open(\"mnist_test_2000.csv\", \"r\") as f:\n",
    "\ttest_data = f.readlines()\n"
   ]
  },
  {
   "cell_type": "code",
   "execution_count": 2,
   "metadata": {},
   "outputs": [
    {
     "data": {
      "text/plain": [
       "<matplotlib.image.AxesImage at 0x7fd26043b430>"
      ]
     },
     "execution_count": 2,
     "metadata": {},
     "output_type": "execute_result"
    },
    {
     "data": {
      "image/png": "[encoded data removed]",
      "text/plain": [
       "<Figure size 432x288 with 1 Axes>"
      ]
     },
     "metadata": {
      "needs_background": "light"
     },
     "output_type": "display_data"
    }
   ],
   "source": [
    "#quick look at what the inputs look like\n",
    "demo_value = train_data[0].split(',')\n",
    "img_arr = np.asfarray(demo_value[1:]).reshape((28,28))\n",
    "plt.imshow(img_arr, cmap='Greys', interpolation='None')"
   ]
  },
  {
   "cell_type": "code",
   "execution_count": 5,
   "metadata": {},
   "outputs": [],
   "source": [
    "\n",
    "#net params\n",
    "input_nodes = 784\n",
    "hidden_nodes = 100\n",
    "hidden_layers = 1\n",
    "output_nodes = 10\n",
    "learning_rate = 0.1\n",
    "#intialize pysiclib neural net implementation using random weights\n",
    "pysiclib_net = psl.adaptive.ProtoNet(\n",
    "\tinput_nodes, hidden_nodes, hidden_layers, output_nodes, learning_rate)\n",
    "#intialize numpy neural net implementation using the same weights from pysiclib\n",
    "numpy_net = psl.adaptive.ProtoNet_Numpy(\n",
    "\tinput_nodes, hidden_nodes, hidden_layers, output_nodes, learning_rate, pysiclib_net)"
   ]
  },
  {
   "cell_type": "code",
   "execution_count": 6,
   "metadata": {},
   "outputs": [],
   "source": [
    "#training loop\n",
    "num_train_epochs = len(train_data)\n",
    "for record in train_data[:num_train_epochs]:\n",
    "\tall_values = record.split(',')\n",
    "\n",
    "\tscaled_input_raw = (np.asfarray(all_values[1:])/255.0 * 0.99) + 0.01\n",
    "\tscaled_input = psl.linalg.Tensor(scaled_input_raw).transpose()\n",
    "\n",
    "\tscaled_target_raw = np.zeros(output_nodes) + 0.01\n",
    "\tscaled_target_raw[int(all_values[0])] = 0.99\n",
    "\tscaled_target = psl.linalg.Tensor(scaled_target_raw).transpose()\n",
    "\n",
    "\tpysiclib_net.run_epoch(scaled_input, scaled_target)\n",
    "\tnumpy_net.run_epoch(scaled_input_raw, scaled_target_raw)\n"
   ]
  },
  {
   "cell_type": "code",
   "execution_count": 11,
   "metadata": {},
   "outputs": [],
   "source": [
    "#test loop\n",
    "num_test_epochs = len(test_data)\n",
    "score = []\n",
    "nscore = []\n",
    "for record in test_data[:num_test_epochs]:\n",
    "\tall_values = record.split(',')\n",
    "\n",
    "\tscaled_input_raw = (np.asfarray(all_values[1:])/255.0 * 0.99) + 0.01\n",
    "\tscaled_input = psl.linalg.Tensor(scaled_input_raw).transpose()\n",
    "\n",
    "\tcorrect_label = int(all_values[0])\n",
    "\n",
    "\tquery_res = pysiclib_net.query_net(scaled_input)\n",
    "\tnumpy_query = numpy_net.query_net(scaled_input_raw)\n",
    "\tlabel = np.argmax(query_res.to_numpy())\n",
    "\tnumpy_label = np.argmax(numpy_query)\n",
    "\n",
    "\tif label == correct_label:\n",
    "\t\tscore.append(1)\n",
    "\telse:\n",
    "\t\tscore.append(0)\n",
    "\n",
    "\tif numpy_label == correct_label:\n",
    "\t\tnscore.append(1)\n",
    "\telse:\n",
    "\t\tnscore.append(0)\n"
   ]
  },
  {
   "cell_type": "code",
   "execution_count": 18,
   "metadata": {},
   "outputs": [
    {
     "name": "stdout",
     "output_type": "stream",
     "text": [
      "pysiclib net correct:\n",
      "------\n",
      "89.31 %\n",
      "numpy net correct:\n",
      "------\n",
      "89.31 %\n",
      "\n",
      "\n"
     ]
    }
   ],
   "source": [
    "#calulate performance\n",
    "correct_perc = sum(score) / len(score) * 100\n",
    "np_correct_perc = sum(nscore) / len(nscore) * 100\n",
    "\n",
    "print(\"pysiclib net correct:\\n------\")\n",
    "print(\"{} %\".format(round(correct_perc, 2)))\n",
    "print(\"numpy net correct:\\n------\")\n",
    "print(\"{} %\".format(round(np_correct_perc, 2)))\n",
    "print(\"\\n\")"
   ]
  }
 ],
 "metadata": {
  "interpreter": {
   "hash": "38cca0c38332a56087b24af0bc80247f4fced29cb4f7f437d91dc159adec9c4e"
  },
  "kernelspec": {
   "display_name": "Python 3.8.8 64-bit ('base': conda)",
   "name": "python3"
  },
  "language_info": {
   "codemirror_mode": {
    "name": "ipython",
    "version": 3
   },
   "file_extension": ".py",
   "mimetype": "text/x-python",
   "name": "python",
   "nbconvert_exporter": "python",
   "pygments_lexer": "ipython3",
   "version": "3.8.8"
  },
  "orig_nbformat": 4
 },
 "nbformat": 4,
 "nbformat_minor": 2
}
